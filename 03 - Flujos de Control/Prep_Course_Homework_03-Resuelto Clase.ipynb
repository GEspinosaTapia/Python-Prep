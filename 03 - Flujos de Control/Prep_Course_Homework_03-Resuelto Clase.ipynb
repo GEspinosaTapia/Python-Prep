{
 "cells": [
  {
   "cell_type": "markdown",
   "metadata": {},
   "source": [
    "## Flujos de Control"
   ]
  },
  {
   "cell_type": "markdown",
   "metadata": {},
   "source": [
    "1) Crear una variable que contenga un elemento del conjunto de números enteros y luego imprimir por pantalla si es mayor o menor a cero"
   ]
  },
  {
   "cell_type": "code",
   "execution_count": 1,
   "metadata": {},
   "outputs": [
    {
     "name": "stdout",
     "output_type": "stream",
     "text": [
      "La variable es mayor que cero\n"
     ]
    }
   ],
   "source": [
    "a = 1 \n",
    "if (a > 0):\n",
    "    print(\"La variable es mayor que cero\")\n",
    "elif (a < 0):\n",
    "    print(\"La variable es menor que cero\")\n",
    "else:\n",
    "    print(\"La variable es igual a cero\")\n",
    "    "
   ]
  },
  {
   "cell_type": "code",
   "execution_count": null,
   "metadata": {},
   "outputs": [],
   "source": [
    "Vaayansen a la verga"
   ]
  },
  {
   "cell_type": "markdown",
   "metadata": {},
   "source": [
    "2) Crear dos variables y un condicional que informe si son del mismo tipo de dato"
   ]
  },
  {
   "cell_type": "code",
   "execution_count": 16,
   "metadata": {},
   "outputs": [
    {
     "name": "stdout",
     "output_type": "stream",
     "text": [
      "Son el mismo tipo de dato\n"
     ]
    }
   ],
   "source": [
    "b = 3j\n",
    "c = 2j\n",
    "\n",
    "if (type(b) == type(c)):\n",
    "     print(\"Son el mismo tipo de dato\")\n",
    "elif (type(b) != type(c)):\n",
    "    print(\"No son el mismo tipo de dato\")"
   ]
  },
  {
   "cell_type": "markdown",
   "metadata": {},
   "source": [
    "3) Para los valores enteros del 1 al 20, imprimir por pantalla si es par o impar"
   ]
  },
  {
   "cell_type": "code",
   "execution_count": 2,
   "metadata": {},
   "outputs": [
    {
     "name": "stdout",
     "output_type": "stream",
     "text": [
      "El número 1 es impar\n",
      "El número 2 es par\n",
      "El número 3 es impar\n",
      "El número 4 es par\n",
      "El número 5 es impar\n",
      "El número 6 es par\n",
      "El número 7 es impar\n",
      "El número 8 es par\n",
      "El número 9 es impar\n",
      "El número 10 es par\n",
      "El número 11 es impar\n",
      "El número 12 es par\n",
      "El número 13 es impar\n",
      "El número 14 es par\n",
      "El número 15 es impar\n",
      "El número 16 es par\n",
      "El número 17 es impar\n",
      "El número 18 es par\n",
      "El número 19 es impar\n",
      "El número 20 es par\n"
     ]
    }
   ],
   "source": [
    "for i in range(1,21):\n",
    "    if (i % 2 == 0):\n",
    "        print(\"El número \" +str(i)+\" es par\")\n",
    "    elif (i % 2 !=0):\n",
    "        print(\"El número \" +str(i)+\" es impar\")\n",
    "    "
   ]
  },
  {
   "cell_type": "markdown",
   "metadata": {},
   "source": [
    "4) En un ciclo for mostrar para los valores entre 0 y 5 el resultado de elevarlo a la potencia igual a 3"
   ]
  },
  {
   "cell_type": "code",
   "execution_count": 3,
   "metadata": {},
   "outputs": [
    {
     "name": "stdout",
     "output_type": "stream",
     "text": [
      "El resultado de elevar 0 al cubo es 0\n",
      "El resultado de elevar 1 al cubo es 1\n",
      "El resultado de elevar 2 al cubo es 8\n",
      "El resultado de elevar 3 al cubo es 27\n",
      "El resultado de elevar 4 al cubo es 64\n",
      "El resultado de elevar 5 al cubo es 125\n"
     ]
    }
   ],
   "source": [
    "for i in range(0,6):\n",
    "    print(\"El resultado de elevar \" + str(i) + \" al cubo es\", int(i**3) )"
   ]
  },
  {
   "cell_type": "markdown",
   "metadata": {},
   "source": [
    "5) Crear una variable que contenga un número entero y realizar un ciclo for la misma cantidad de ciclos"
   ]
  },
  {
   "cell_type": "code",
   "execution_count": 4,
   "metadata": {},
   "outputs": [
    {
     "name": "stdout",
     "output_type": "stream",
     "text": [
      "Perro  1\n",
      "Perro  2\n",
      "Perro  3\n",
      "Perro  4\n",
      "Perro  5\n",
      "Perro  6\n",
      "Perro  7\n",
      "Perro  8\n",
      "Perro  9\n",
      "Perro  10\n",
      "Perro  11\n",
      "Perro  12\n",
      "Perro  13\n",
      "Perro  14\n",
      "Perro  15\n",
      "Perro  16\n",
      "Perro  17\n",
      "Perro  18\n",
      "Perro  19\n",
      "Perro  20\n",
      "Perro  21\n",
      "Perro  22\n",
      "Perro  23\n",
      "Perro  24\n",
      "Perro  25\n",
      "Perro  26\n",
      "Perro  27\n",
      "Perro  28\n",
      "Perro  29\n",
      "Perro  30\n"
     ]
    }
   ],
   "source": [
    "a = 30\n",
    "for i in range (1,(a+1)):\n",
    "    print(\"Perro \", int(i))"
   ]
  },
  {
   "cell_type": "markdown",
   "metadata": {},
   "source": [
    "6) Utilizar un ciclo while para realizar el factorial de un número guardado en una variable, sólo si la variable contiene un número entero mayor a 0"
   ]
  },
  {
   "cell_type": "code",
   "execution_count": 5,
   "metadata": {},
   "outputs": [
    {
     "name": "stdout",
     "output_type": "stream",
     "text": [
      "120\n"
     ]
    }
   ],
   "source": [
    "numero = 5\n",
    "factorial = 1\n",
    "while (numero > 1 ):\n",
    "    factorial = numero*factorial\n",
    "    numero -= 1\n",
    "print(factorial)"
   ]
  },
  {
   "cell_type": "markdown",
   "metadata": {},
   "source": [
    "7) Crear un ciclo for dentro de un ciclo while"
   ]
  },
  {
   "cell_type": "code",
   "execution_count": 8,
   "metadata": {},
   "outputs": [
    {
     "name": "stdout",
     "output_type": "stream",
     "text": [
      "5\n",
      "10\n",
      "15\n",
      "20\n"
     ]
    }
   ],
   "source": [
    "i = 7\n",
    "while (i > 5):\n",
    "    for i in range(1,5):\n",
    "        print(i*5)"
   ]
  },
  {
   "cell_type": "markdown",
   "metadata": {},
   "source": [
    "8) Crear un ciclo while dentro de un ciclo for"
   ]
  },
  {
   "cell_type": "code",
   "execution_count": 9,
   "metadata": {},
   "outputs": [
    {
     "name": "stdout",
     "output_type": "stream",
     "text": [
      "1\n",
      "2\n",
      "6\n",
      "24\n",
      "120\n",
      "720\n"
     ]
    }
   ],
   "source": [
    "for i in range (1, 7):\n",
    "    numero = i\n",
    "    factorial = 1\n",
    "    while (numero > 1 ):\n",
    "        factorial = numero*factorial\n",
    "        numero -= 1\n",
    "    print(factorial)"
   ]
  },
  {
   "cell_type": "markdown",
   "metadata": {},
   "source": [
    "9) Imprimir los números primos existentes entre 0 y 30"
   ]
  },
  {
   "cell_type": "code",
   "execution_count": 10,
   "metadata": {},
   "outputs": [
    {
     "name": "stdout",
     "output_type": "stream",
     "text": [
      "1 es primo\n",
      "2 es primo\n",
      "3 es primo\n",
      "5 es primo\n",
      "7 es primo\n",
      "11 es primo\n",
      "13 es primo\n",
      "17 es primo\n",
      "19 es primo\n",
      "23 es primo\n",
      "29 es primo\n"
     ]
    }
   ],
   "source": [
    "no_primo = []\n",
    "for i in range(1,31):\n",
    "    es_primo = True\n",
    "    for j in range(1,31):\n",
    "        if i!=j and i!=1 and j!=1 and i%j==0:\n",
    "            es_primo = False\n",
    "            no_primo.append(i)\n",
    "            break\n",
    "    if es_primo:\n",
    "        print(str(i)+\" es primo\")"
   ]
  },
  {
   "cell_type": "markdown",
   "metadata": {},
   "source": [
    "10) ¿Se puede mejorar el proceso del punto 9? Utilizar las sentencias break y/ó continue para tal fin"
   ]
  },
  {
   "cell_type": "markdown",
   "metadata": {},
   "source": [
    "11) En los puntos 9 y 10, se diseño un código que encuentra números primos y además se lo optimizó. ¿Es posible saber en qué medida se optimizó?"
   ]
  },
  {
   "cell_type": "code",
   "execution_count": 12,
   "metadata": {},
   "outputs": [
    {
     "name": "stdout",
     "output_type": "stream",
     "text": [
      "1 es primo\n",
      "2 es primo\n",
      "3 es primo\n",
      "5 es primo\n",
      "7 es primo\n",
      "11 es primo\n",
      "13 es primo\n",
      "17 es primo\n",
      "19 es primo\n",
      "23 es primo\n",
      "29 es primo\n",
      "Cantidad de ciclos: 900\n"
     ]
    }
   ],
   "source": [
    "ciclos_sin_break = 0\n",
    "no_primo = []\n",
    "for i in range(1,31):\n",
    "    es_primo = True\n",
    "    for j in range(1,31):\n",
    "        ciclos_sin_break += 1\n",
    "        if i!=j and i!=1 and j!=1 and i%j==0:\n",
    "            es_primo = False\n",
    "            no_primo.append(i)\n",
    "    if es_primo:\n",
    "        print(str(i)+\" es primo\")\n",
    "print('Cantidad de ciclos: ' + str(ciclos_sin_break))"
   ]
  },
  {
   "cell_type": "code",
   "execution_count": 13,
   "metadata": {},
   "outputs": [
    {
     "name": "stdout",
     "output_type": "stream",
     "text": [
      "1 es primo\n",
      "2 es primo\n",
      "3 es primo\n",
      "5 es primo\n",
      "7 es primo\n",
      "11 es primo\n",
      "13 es primo\n",
      "17 es primo\n",
      "19 es primo\n",
      "23 es primo\n",
      "29 es primo\n",
      "Cantidad de ciclos sin break: 900\n",
      "Cantidad de ciclos con break: 375\n",
      "Se optimizó un 58.33333333333333% de ciclos aplicando break\n"
     ]
    }
   ],
   "source": [
    "ciclos_con_break = 0\n",
    "no_primo = []\n",
    "for i in range(1,31):\n",
    "    es_primo = True\n",
    "    for j in range(1,31):\n",
    "        ciclos_con_break += 1\n",
    "        if i!=j and i!=1 and j!=1 and i%j==0:\n",
    "            es_primo = False\n",
    "            no_primo.append(i)\n",
    "            break\n",
    "    if es_primo:\n",
    "        print(str(i)+\" es primo\")\n",
    "print('Cantidad de ciclos sin break: ' + str(ciclos_sin_break))\n",
    "print('Cantidad de ciclos con break: ' + str(ciclos_con_break))\n",
    "print('Se optimizó un ' + str(abs(((ciclos_con_break/ciclos_sin_break)-1)*100)) + '% de ciclos aplicando break')"
   ]
  },
  {
   "cell_type": "markdown",
   "metadata": {},
   "source": [
    "12) Si la cantidad de números que se evalúa es mayor a treinta, esa optimización crece?"
   ]
  },
  {
   "cell_type": "code",
   "execution_count": 14,
   "metadata": {},
   "outputs": [
    {
     "name": "stdout",
     "output_type": "stream",
     "text": [
      "1 es primo\n",
      "2 es primo\n",
      "3 es primo\n",
      "5 es primo\n",
      "7 es primo\n",
      "11 es primo\n",
      "13 es primo\n",
      "17 es primo\n",
      "19 es primo\n",
      "23 es primo\n",
      "29 es primo\n",
      "31 es primo\n",
      "37 es primo\n",
      "41 es primo\n",
      "43 es primo\n",
      "47 es primo\n",
      "53 es primo\n",
      "59 es primo\n",
      "61 es primo\n",
      "67 es primo\n",
      "71 es primo\n",
      "73 es primo\n",
      "79 es primo\n",
      "83 es primo\n",
      "89 es primo\n",
      "97 es primo\n",
      "Cantidad de ciclos: 9801\n",
      "1 es primo\n",
      "2 es primo\n",
      "3 es primo\n",
      "5 es primo\n",
      "7 es primo\n",
      "11 es primo\n",
      "13 es primo\n",
      "17 es primo\n",
      "19 es primo\n",
      "23 es primo\n",
      "29 es primo\n",
      "31 es primo\n",
      "37 es primo\n",
      "41 es primo\n",
      "43 es primo\n",
      "47 es primo\n",
      "53 es primo\n",
      "59 es primo\n",
      "61 es primo\n",
      "67 es primo\n",
      "71 es primo\n",
      "73 es primo\n",
      "79 es primo\n",
      "83 es primo\n",
      "89 es primo\n",
      "97 es primo\n",
      "Cantidad de ciclos sin break: 9801\n",
      "Cantidad de ciclos con break: 2769\n",
      "Se optimizó un 71.74778083868993% de ciclos aplicando break\n"
     ]
    }
   ],
   "source": [
    "ciclos_sin_break = 0\n",
    "no_primo = []\n",
    "for i in range(1,100):\n",
    "    es_primo = True\n",
    "    for j in range(1,100):\n",
    "        ciclos_sin_break += 1\n",
    "        if i!=j and i!=1 and j!=1 and i%j==0:\n",
    "            es_primo = False\n",
    "            no_primo.append(i)\n",
    "    if es_primo:\n",
    "        print(str(i)+\" es primo\")\n",
    "print('Cantidad de ciclos: ' + str(ciclos_sin_break))\n",
    "\n",
    "ciclos_con_break = 0\n",
    "no_primo = []\n",
    "for i in range(1,100):\n",
    "    es_primo = True\n",
    "    for j in range(1,100):\n",
    "        ciclos_con_break += 1\n",
    "        if i!=j and i!=1 and j!=1 and i%j==0:\n",
    "            es_primo = False\n",
    "            no_primo.append(i)\n",
    "            break\n",
    "    if es_primo:\n",
    "        print(str(i)+\" es primo\")\n",
    "print('Cantidad de ciclos sin break: ' + str(ciclos_sin_break))\n",
    "print('Cantidad de ciclos con break: ' + str(ciclos_con_break))\n",
    "print('Se optimizó un ' + str(abs(((ciclos_con_break/ciclos_sin_break)-1)*100)) + '% de ciclos aplicando break')"
   ]
  },
  {
   "cell_type": "markdown",
   "metadata": {},
   "source": [
    "13) Aplicando continue, armar un ciclo while que solo imprima los valores divisibles por 12, dentro del rango de números de 100 a 300"
   ]
  },
  {
   "cell_type": "code",
   "execution_count": 23,
   "metadata": {},
   "outputs": [
    {
     "name": "stdout",
     "output_type": "stream",
     "text": [
      "108\n",
      "120\n",
      "132\n",
      "144\n",
      "156\n",
      "168\n",
      "180\n",
      "192\n",
      "204\n",
      "216\n",
      "228\n",
      "240\n",
      "252\n",
      "264\n",
      "276\n",
      "288\n",
      "300\n"
     ]
    }
   ],
   "source": [
    "n=99\n",
    "while n<=300:\n",
    "    n +=1\n",
    "    if n%12!=0:\n",
    "        continue\n",
    "    print(n)\n",
    "        "
   ]
  },
  {
   "cell_type": "markdown",
   "metadata": {},
   "source": [
    "14) Utilizar la función **input()** que permite hacer ingresos por teclado, para encontrar números primos y dar la opción al usario de buscar el siguiente"
   ]
  },
  {
   "cell_type": "markdown",
   "metadata": {},
   "source": [
    "15) Crear un ciclo while que encuentre dentro del rango de 100 a 300 el primer número divisible por 3 y además múltiplo de 6"
   ]
  },
  {
   "cell_type": "code",
   "execution_count": 33,
   "metadata": {},
   "outputs": [
    {
     "name": "stdout",
     "output_type": "stream",
     "text": [
      "102\n"
     ]
    }
   ],
   "source": [
    "n = 99\n",
    "while n <= 300:\n",
    "    n +=1\n",
    "    if n%3==0 and n%6==0:\n",
    "        print(n)\n",
    "        break\n",
    "             "
   ]
  },
  {
   "cell_type": "code",
   "execution_count": 4,
   "metadata": {},
   "outputs": [
    {
     "name": "stdout",
     "output_type": "stream",
     "text": [
      "['rojo', 'azul', 'amarillo', 'verde', 12, True, 5.8]\n"
     ]
    }
   ],
   "source": [
    "mi_lista = ['rojo','azul','amarillo','verde',12,True,5.8]\n",
    "print(mi_lista)"
   ]
  },
  {
   "cell_type": "code",
   "execution_count": 18,
   "metadata": {},
   "outputs": [
    {
     "data": {
      "text/plain": [
       "list"
      ]
     },
     "execution_count": 18,
     "metadata": {},
     "output_type": "execute_result"
    }
   ],
   "source": [
    "type(mi_lista[1:4])"
   ]
  },
  {
   "cell_type": "code",
   "execution_count": 2,
   "metadata": {},
   "outputs": [
    {
     "ename": "NameError",
     "evalue": "name 'mi_lista' is not defined",
     "output_type": "error",
     "traceback": [
      "\u001b[1;31m---------------------------------------------------------------------------\u001b[0m",
      "\u001b[1;31mNameError\u001b[0m                                 Traceback (most recent call last)",
      "\u001b[1;32m~\\AppData\\Local\\Temp\\ipykernel_15372\\3171288546.py\u001b[0m in \u001b[0;36m<module>\u001b[1;34m\u001b[0m\n\u001b[1;32m----> 1\u001b[1;33m \u001b[0mmi_lista\u001b[0m\u001b[1;33m\u001b[0m\u001b[1;33m\u001b[0m\u001b[0m\n\u001b[0m",
      "\u001b[1;31mNameError\u001b[0m: name 'mi_lista' is not defined"
     ]
    }
   ],
   "source": [
    "mi_lista"
   ]
  },
  {
   "cell_type": "code",
   "execution_count": 3,
   "metadata": {},
   "outputs": [
    {
     "ename": "NameError",
     "evalue": "name 'mi_lista' is not defined",
     "output_type": "error",
     "traceback": [
      "\u001b[1;31m---------------------------------------------------------------------------\u001b[0m",
      "\u001b[1;31mNameError\u001b[0m                                 Traceback (most recent call last)",
      "\u001b[1;32m~\\AppData\\Local\\Temp\\ipykernel_15372\\3681590757.py\u001b[0m in \u001b[0;36m<module>\u001b[1;34m\u001b[0m\n\u001b[1;32m----> 1\u001b[1;33m \u001b[0mmi_lista\u001b[0m\u001b[1;33m.\u001b[0m\u001b[0minsert\u001b[0m\u001b[1;33m(\u001b[0m\u001b[1;36m3\u001b[0m\u001b[1;33m,\u001b[0m \u001b[1;34m'negro'\u001b[0m\u001b[1;33m)\u001b[0m\u001b[1;33m\u001b[0m\u001b[1;33m\u001b[0m\u001b[0m\n\u001b[0m",
      "\u001b[1;31mNameError\u001b[0m: name 'mi_lista' is not defined"
     ]
    }
   ],
   "source": [
    "mi_lista.insert(3, 'negro')"
   ]
  },
  {
   "cell_type": "code",
   "execution_count": 28,
   "metadata": {},
   "outputs": [],
   "source": [
    "mi_lista.remove('azul')"
   ]
  },
  {
   "cell_type": "code",
   "execution_count": 37,
   "metadata": {},
   "outputs": [
    {
     "data": {
      "text/plain": [
       "['rojo', 'amarillo', 'negro', 'celeste', 12, True, 'blanco', 12, 'blanco', 12]"
      ]
     },
     "execution_count": 37,
     "metadata": {},
     "output_type": "execute_result"
    }
   ],
   "source": [
    "mi_lista"
   ]
  },
  {
   "cell_type": "code",
   "execution_count": 36,
   "metadata": {},
   "outputs": [],
   "source": [
    "mi_lista2 = ['blanco',12]\n",
    "mi_lista.extend(mi_lista2)"
   ]
  },
  {
   "cell_type": "code",
   "execution_count": 39,
   "metadata": {},
   "outputs": [],
   "source": [
    "mi_lista = [8,1,5,0]"
   ]
  },
  {
   "cell_type": "code",
   "execution_count": 40,
   "metadata": {},
   "outputs": [],
   "source": [
    "mi_lista.sort()"
   ]
  },
  {
   "cell_type": "code",
   "execution_count": 41,
   "metadata": {},
   "outputs": [
    {
     "data": {
      "text/plain": [
       "[0, 1, 5, 8]"
      ]
     },
     "execution_count": 41,
     "metadata": {},
     "output_type": "execute_result"
    }
   ],
   "source": [
    "mi_lista"
   ]
  },
  {
   "cell_type": "code",
   "execution_count": 42,
   "metadata": {},
   "outputs": [
    {
     "data": {
      "text/plain": [
       "False"
      ]
     },
     "execution_count": 42,
     "metadata": {},
     "output_type": "execute_result"
    }
   ],
   "source": [
    "9 in mi_lista"
   ]
  },
  {
   "cell_type": "code",
   "execution_count": 43,
   "metadata": {},
   "outputs": [],
   "source": [
    "mi_tupla = (5,5,6)"
   ]
  },
  {
   "cell_type": "code",
   "execution_count": 46,
   "metadata": {},
   "outputs": [
    {
     "ename": "NameError",
     "evalue": "name 'mi_tupla' is not defined",
     "output_type": "error",
     "traceback": [
      "\u001b[1;31m---------------------------------------------------------------------------\u001b[0m",
      "\u001b[1;31mNameError\u001b[0m                                 Traceback (most recent call last)",
      "\u001b[1;32m~\\AppData\\Local\\Temp/ipykernel_12848/3347640657.py\u001b[0m in \u001b[0;36m<module>\u001b[1;34m\u001b[0m\n\u001b[1;32m----> 1\u001b[1;33m \u001b[1;36m5\u001b[0m \u001b[1;32min\u001b[0m \u001b[0mmi_tupla\u001b[0m\u001b[1;33m\u001b[0m\u001b[1;33m\u001b[0m\u001b[0m\n\u001b[0m",
      "\u001b[1;31mNameError\u001b[0m: name 'mi_tupla' is not defined"
     ]
    }
   ],
   "source": [
    "5 in mi_tupla"
   ]
  },
  {
   "cell_type": "code",
   "execution_count": 45,
   "metadata": {},
   "outputs": [],
   "source": [
    "del mi_tupla"
   ]
  }
 ],
 "metadata": {
  "kernelspec": {
   "display_name": "base",
   "language": "python",
   "name": "python3"
  },
  "language_info": {
   "codemirror_mode": {
    "name": "ipython",
    "version": 3
   },
   "file_extension": ".py",
   "mimetype": "text/x-python",
   "name": "python",
   "nbconvert_exporter": "python",
   "pygments_lexer": "ipython3",
   "version": "3.9.13"
  },
  "vscode": {
   "interpreter": {
    "hash": "41213d0fbcecc5c7e7dd20fbe3b5d7770fc6ea81dda0d84d9c44d49190088fcd"
   }
  }
 },
 "nbformat": 4,
 "nbformat_minor": 4
}
